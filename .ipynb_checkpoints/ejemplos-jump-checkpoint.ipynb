{
 "cells": [
  {
   "cell_type": "markdown",
   "metadata": {
    "tags": []
   },
   "source": [
    "### Julia + JuMP para optimización matemática\n",
    "\n",
    "\n",
    "\n",
    "#### Instalar JuMP y GLPK\n",
    "\n",
    "En primer lugar se agregará el paquete JuMP ejecutando el siguiente código en el Notebook, nótese que el simbolo # inicia un comentario en Julia."
   ]
  },
  {
   "cell_type": "code",
   "execution_count": 34,
   "metadata": {},
   "outputs": [],
   "source": [
    "# import Pkg # Importa el administrador de paquetes Pkg\n",
    "# Pkg.add(\"JuMP\") # Instala el paquete JuMP"
   ]
  },
  {
   "cell_type": "markdown",
   "metadata": {},
   "source": [
    "Es necesario instalar un Solver (paquete con métodos de optimización implementados, por ejemplo. Simplex). Se instalará el Solver open source GLPK (pueden encontrar info en https://www.gnu.org/software/glpk/) escribiendo el siguiente comando."
   ]
  },
  {
   "cell_type": "code",
   "execution_count": 33,
   "metadata": {},
   "outputs": [],
   "source": [
    "# Pkg.add(\"GLPK\") # Instala el paquete GLPK"
   ]
  },
  {
   "cell_type": "markdown",
   "metadata": {},
   "source": [
    "#### Primer ejemplo \n",
    "Se resuelve el siguiente problema de programación lineal utilizando JuMP para verificar su funcionamiento."
   ]
  },
  {
   "cell_type": "markdown",
   "metadata": {},
   "source": [
    "$$ maximizar \\quad 3x_{1} + 2x_{2} \\\\ s.a. \\quad 2x_{1} + x_{2} \\leq 100 \\\\ x_{1} + x_{2} \\leq 80  \\\\ x_{1} \\geq 0, x_{2} \\geq 0 $$ "
   ]
  },
  {
   "cell_type": "code",
   "execution_count": 21,
   "metadata": {},
   "outputs": [
    {
     "data": {
      "text/plain": [
       "180.0"
      ]
     },
     "execution_count": 21,
     "metadata": {},
     "output_type": "execute_result"
    }
   ],
   "source": [
    "using JuMP # Importa el modulo JuMP.\n",
    "using GLPK # Importa el modulo GLPK para utilizar el solver.\n",
    "\n",
    "# CONSTRUCCIÓN DEL MODELO\n",
    "modeloUno = Model(with_optimizer(GLPK.Optimizer)) # Instancia un modelo. Las variables y restricciones son asociadas con un modelo.\n",
    "# El modelo creado se encuentra asociado a un solver, en este caso GLPK. \n",
    "\n",
    "# VARIABLES DE DECISIÓN\n",
    "# Una variable es modelada utilizando @variable(nombre del modelo, nombre de la variable y límites, tipo de la variable). \n",
    "# El límite puede ser superior, inferior o ambos. Si no se define un tipo, entonces la variable es tratada como real. \n",
    "# Para variables enteras se utiliza Int y para variables binarias Bin.  \n",
    "@variable(modeloUno, x >= 0) # Modela la variable continua x.\n",
    "@variable(modeloUno, y >= 0) # Modela la variable continua y.\n",
    "\n",
    "# Algunos ejemplos:\n",
    "# @variable(nombre modelo, x, Bin) # Modela la variable binaria x, nótese que no se utiliza límites.\n",
    "# @variable(myModel, x <= 10) # Modela una variable continua con l+imite suprior. \n",
    "# @variable(myModel, 0 <= x <= 10, Int) # Modela una variable entera con límite superior e inferior.\n",
    "\n",
    "\n",
    "# FUNCIÓN OBJETIVO\n",
    "@objective(modeloUno, Max, 3x + 2y) # Establece la maximización de la función objetivo. Para minimizar, utilizar Min.\n",
    "\n",
    "# RESTRICCIONES\n",
    "@constraint(modeloUno, 2x + y <= 100) # Agrega una restriccción al modelo.\n",
    "@constraint(modeloUno, x + y <= 80) # Agrega una restriccción al modelo.\n",
    "\n",
    "optimize!(modeloUno) # Resuelve el  modelo\n",
    "objective_value(modeloUno) # Entrega el valor objetivo óptimo"
   ]
  },
  {
   "cell_type": "code",
   "execution_count": 22,
   "metadata": {},
   "outputs": [
    {
     "data": {
      "text/plain": [
       "OPTIMAL::TerminationStatusCode = 1"
      ]
     },
     "execution_count": 22,
     "metadata": {},
     "output_type": "execute_result"
    }
   ],
   "source": [
    "termination_status(modeloUno) # Entrega valor de estado de término del modelo. 1 = óptimo; 2 = infactible."
   ]
  },
  {
   "cell_type": "code",
   "execution_count": 23,
   "metadata": {},
   "outputs": [
    {
     "data": {
      "text/plain": [
       "20.0"
      ]
     },
     "execution_count": 23,
     "metadata": {},
     "output_type": "execute_result"
    }
   ],
   "source": [
    "value(x) # Entrega el valor de la variable de decisión x."
   ]
  },
  {
   "cell_type": "code",
   "execution_count": 24,
   "metadata": {},
   "outputs": [
    {
     "data": {
      "text/plain": [
       "60.0"
      ]
     },
     "execution_count": 24,
     "metadata": {},
     "output_type": "execute_result"
    }
   ],
   "source": [
    "value(y) # Entrega el valor de la variable de decisión y."
   ]
  },
  {
   "cell_type": "markdown",
   "metadata": {},
   "source": [
    "Se resuelve el mismo problema utilizando vectores para los parámetros (costos, lado derecho, coeficientes tecnológicos) y para las variables de decisión.  \n",
    "$$ maximizar \\quad 3x_{1} + 2x_{2} \\\\ s.a. \\quad 2x_{1} + x_{2} \\leq 100 \\\\ x_{1} + x_{2} \\leq 80  \\\\ x_{1} \\geq 0, x_{2} \\geq 0 $$"
   ]
  },
  {
   "cell_type": "code",
   "execution_count": 25,
   "metadata": {},
   "outputs": [
    {
     "data": {
      "text/plain": [
       "180.0"
      ]
     },
     "execution_count": 25,
     "metadata": {},
     "output_type": "execute_result"
    }
   ],
   "source": [
    "using JuMP # Importa el modulo JuMP.\n",
    "using GLPK # Importa el modulo GLPK para utilizar el solver.\n",
    "\n",
    "# CONSTRUCCIÓN DEL MODELO\n",
    "modeloDos = Model(with_optimizer(GLPK.Optimizer)) # Instancia un modelo.\n",
    "\n",
    "# PARÁMETROS DE PROBLEMA\n",
    "c = [3; 2] # Construye un arreglo de dimensiones 2 (fila) x 1 (columna).\n",
    "A = [2 1; # Construye un arreglo de dimensiones 2 (fila) x 2 (columna).\n",
    "     1 1]\n",
    "b = [100; 80] # Construye un vector de dimensiones 2 (fila) x 1 (columna).\n",
    "\n",
    "m,n = size(A) # Entrega las dimensiones del arreglo\n",
    "# VARIABLES DE DECISIÓN\n",
    "@variable(modeloDos, x[1:n] >= 0) # Modela un arreglo de variables x de dimensiones 1 (fila) x 2 (columna).\n",
    "\n",
    "# FUNCIÓN OBJETIVO\n",
    "@objective(modeloDos, Max, sum(c[i]*x[i] for i in 1:n)) # Establece la maximización de la función objetivo.\n",
    "# Utiliza la función sum() para definir la función objetivo mediante una sumatoria.\n",
    "\n",
    "# RESTRICCIONES\n",
    "for i in 1:m\n",
    "    @constraint(modeloDos, sum(A[i,j]*x[j] for j in 1:n) <= b[i]) # Agrega dos restriccción al modelo.\n",
    "end\n",
    "    \n",
    "optimize!(modeloDos) # Resuelve el  modelo\n",
    "objective_value(modeloDos) # Entrega el valor objetivo óptimo"
   ]
  },
  {
   "cell_type": "code",
   "execution_count": 26,
   "metadata": {},
   "outputs": [
    {
     "name": "stdout",
     "output_type": "stream",
     "text": [
      "Variable X1: 20.0\n",
      "Variable X2: 60.0\n"
     ]
    }
   ],
   "source": [
    "for i in 1:n\n",
    "    println(\"Variable X\",i,\": \",value(x[i]))\n",
    "end"
   ]
  },
  {
   "cell_type": "markdown",
   "metadata": {
    "tags": []
   },
   "source": [
    "#### Segundo ejemplo\n",
    "Problema 6 Guía 1 (problema de transporte)"
   ]
  },
  {
   "cell_type": "code",
   "execution_count": 27,
   "metadata": {},
   "outputs": [
    {
     "data": {
      "text/plain": [
       "352500.0"
      ]
     },
     "execution_count": 27,
     "metadata": {},
     "output_type": "execute_result"
    }
   ],
   "source": [
    "using JuMP\n",
    "using GLPK\n",
    "\n",
    "# CONSTRUCCIÓN DEL MODELO\n",
    "modeloTres = Model(with_optimizer(GLPK.Optimizer))\n",
    "\n",
    "# PARÁMETROS DE PROBLEMA\n",
    "c = [55 30 40 50 40; \n",
    "    35 30 100 45 60; \n",
    "    40 60 95 35 30]\n",
    "\n",
    "\n",
    "A = [1 1 1 1 1 0 0 0 0 0 0 0 0 0 0;\n",
    "     0 0 0 0 0 1 1 1 1 1 0 0 0 0 0;\n",
    "     0 0 0 0 0 0 0 0 0 0 1 1 1 1 1;\n",
    "     1 0 0 0 0 1 0 0 0 0 1 0 0 0 0;\n",
    "     0 1 0 0 0 0 1 0 0 0 0 1 0 0 0;\n",
    "     0 0 1 0 0 0 0 1 0 0 0 0 1 0 0;\n",
    "     0 0 0 1 0 0 0 0 1 0 0 0 0 1 0;\n",
    "     0 0 0 0 1 0 0 0 0 1 0 0 0 0 1]\n",
    "\n",
    "b = [2000; 4000; 4000; 2500; 1000; 2000; 3000; 1500]\n",
    "\n",
    "m,n = size(A)\n",
    "\n",
    "# VARIABLES DE DECISIÓN\n",
    "@variable(modeloTres, x[1:3, 1:5] >= 0)\n",
    "\n",
    "# FUNCIÓN OBJETIVO\n",
    "@objective(modeloTres, Min, sum(c[i,j]*x[i,j] for i in 1:3, j in 1:5))\n",
    "\n",
    "# RESTRICCIONES\n",
    "for i in 1:m\n",
    "    @constraint(modeloTres, sum(A[i, (j * 5 + k)]*x[(j + 1),k] for j in 0:2, k in 1:5) == b[i])\n",
    "end\n",
    "\n",
    " \n",
    "optimize!(modeloTres)\n",
    "objective_value(modeloTres)"
   ]
  },
  {
   "cell_type": "code",
   "execution_count": 28,
   "metadata": {},
   "outputs": [
    {
     "name": "stdout",
     "output_type": "stream",
     "text": [
      "Variable X11 = 0.0\n",
      "Variable X12 = 0.0\n",
      "Variable X13 = 2000.0\n",
      "Variable X14 = 0.0\n",
      "Variable X15 = 0.0\n",
      "Variable X21 = 2500.0\n",
      "Variable X22 = 1000.0\n",
      "Variable X23 = 0.0\n",
      "Variable X24 = 500.0\n",
      "Variable X25 = 0.0\n",
      "Variable X31 = 0.0\n",
      "Variable X32 = 0.0\n",
      "Variable X33 = 0.0\n",
      "Variable X34 = 2500.0\n",
      "Variable X35 = 1500.0\n"
     ]
    }
   ],
   "source": [
    "for i in 1:3\n",
    "    for j in 1:5\n",
    "        println(\"Variable X\",i,j,\" = \",value(x[i,j]))\n",
    "    end\n",
    "end"
   ]
  },
  {
   "cell_type": "markdown",
   "metadata": {},
   "source": [
    "#### Tercer ejemplo\n",
    "Problema 5 Guía 1 (problema de corte)"
   ]
  },
  {
   "cell_type": "code",
   "execution_count": 29,
   "metadata": {},
   "outputs": [
    {
     "data": {
      "text/plain": [
       "5170.0"
      ]
     },
     "execution_count": 29,
     "metadata": {},
     "output_type": "execute_result"
    }
   ],
   "source": [
    "using JuMP\n",
    "using GLPK\n",
    "\n",
    "# CONSTRUCCIÓN DEL MODELO\n",
    "modeloCuatro = Model(with_optimizer(GLPK.Optimizer))\n",
    "\n",
    "# PARÁMETROS DE PROBLEMA\n",
    "c = [10 25 20 10 5 0]\n",
    "\n",
    "\n",
    "A = [3 1 1 0 0 0;\n",
    "     0 1 0 2 1 0;\n",
    "     0 0 1 1 0 2]\n",
    "\n",
    "b = [800; 500; 1000]\n",
    "\n",
    "\n",
    "# VARIABLES DE DECISIÓN\n",
    "@variable(modeloCuatro, x[1:6] >= 0, Int)\n",
    "\n",
    "# FUNCIÓN OBJETIVO\n",
    "@objective(modeloCuatro, Min, sum(c[i]*x[i] for i in 1:6))\n",
    "\n",
    "# RESTRICCIONES\n",
    "for i in 1:3\n",
    "    @constraint(modeloCuatro, sum(A[i,j]*x[j] for j in 1:6) >= b[i])\n",
    "end\n",
    "\n",
    " \n",
    "optimize!(modeloCuatro)\n",
    "objective_value(modeloCuatro)"
   ]
  },
  {
   "cell_type": "code",
   "execution_count": 30,
   "metadata": {},
   "outputs": [
    {
     "name": "stdout",
     "output_type": "stream",
     "text": [
      "Variable X1 = 267.0\n",
      "Variable X2 = 0.0\n",
      "Variable X3 = 0.0\n",
      "Variable X4 = 250.0\n",
      "Variable X5 = 0.0\n",
      "Variable X6 = 375.0\n"
     ]
    }
   ],
   "source": [
    "for j in 1:6\n",
    "    println(\"Variable X\",j,\" = \",value(x[j]))\n",
    "end"
   ]
  },
  {
   "cell_type": "markdown",
   "metadata": {},
   "source": [
    "#### Cuarto ejemplo\n",
    "Problema 7 Guía 1 (variables binarias)"
   ]
  },
  {
   "cell_type": "markdown",
   "metadata": {},
   "source": [
    "$$ maximizar \\quad 500x_{1} + 600x_{2}+380x_{3} + 750x_{4}+590x_{5} + 820x_{6}+300x_{7} + 910x_{8} \\\\ s.a. \\quad 400x_{1} + 350x_{2}+600x_{3} + 800x_{4}+870x_{5} + 950x_{6}+780x_{7} + 640x_{8} \\leq 3000 \\\\ x_{i} \\in \\{0,1\\} ; con\\, i = 1,...8 $$"
   ]
  },
  {
   "cell_type": "code",
   "execution_count": 31,
   "metadata": {},
   "outputs": [
    {
     "data": {
      "text/plain": [
       "3210.0"
      ]
     },
     "execution_count": 31,
     "metadata": {},
     "output_type": "execute_result"
    }
   ],
   "source": [
    "using JuMP\n",
    "using GLPK\n",
    "\n",
    "# CONSTRUCCIÓN DEL MODELO\n",
    "modeloCinco = Model(with_optimizer(GLPK.Optimizer))\n",
    "\n",
    "# PARÁMETROS DE PROBLEMA\n",
    "c = [500 600 380 750 590 820 300 910]\n",
    "\n",
    "A = [400 350 600 800 870 950 780 640]\n",
    "\n",
    "b = [3000]\n",
    "\n",
    "# VARIABLES DE DECISIÓN\n",
    "@variable(modeloCinco, x[1:8], Bin)\n",
    "\n",
    "# FUNCIÓN OBJETIVO\n",
    "@objective(modeloCinco, Max, sum(c[i]*x[i] for i in 1:8))\n",
    "\n",
    "# RESTRICCIONES\n",
    "@constraint(modeloCinco, sum(A[1,j]*x[j] for j in 1:8) <= b[1])\n",
    " \n",
    "optimize!(modeloCinco)\n",
    "objective_value(modeloCinco)"
   ]
  },
  {
   "cell_type": "code",
   "execution_count": 32,
   "metadata": {},
   "outputs": [
    {
     "name": "stdout",
     "output_type": "stream",
     "text": [
      "Variable X1 = 1.0\n",
      "Variable X2 = 1.0\n",
      "Variable X3 = 1.0\n",
      "Variable X4 = 0.0\n",
      "Variable X5 = 0.0\n",
      "Variable X6 = 1.0\n",
      "Variable X7 = 0.0\n",
      "Variable X8 = 1.0\n"
     ]
    }
   ],
   "source": [
    "for j in 1:8\n",
    "    println(\"Variable X\",j,\" = \",value(x[j]))\n",
    "end"
   ]
  },
  {
   "cell_type": "code",
   "execution_count": null,
   "metadata": {},
   "outputs": [],
   "source": []
  }
 ],
 "metadata": {
  "kernelspec": {
   "display_name": "Julia 1.6.3",
   "language": "julia",
   "name": "julia-1.6"
  },
  "language_info": {
   "file_extension": ".jl",
   "mimetype": "application/julia",
   "name": "julia",
   "version": "1.6.3"
  }
 },
 "nbformat": 4,
 "nbformat_minor": 4
}
